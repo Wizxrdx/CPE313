{
  "nbformat": 4,
  "nbformat_minor": 0,
  "metadata": {
    "colab": {
      "provenance": []
    },
    "kernelspec": {
      "name": "python3",
      "display_name": "Python 3"
    },
    "language_info": {
      "name": "python"
    }
  },
  "cells": [
    {
      "cell_type": "code",
      "source": [
        "# e = 2.718281828\n",
        "\n",
        "# def sigmoid(x):\n",
        "#     return 1.0 / (1.0 + (e ** -x))\n",
        "\n",
        "def ReLU(x):\n",
        "    return x * (x > 0)"
      ],
      "metadata": {
        "id": "1XLW_hA4U3Ko"
      },
      "execution_count": 73,
      "outputs": []
    },
    {
      "cell_type": "code",
      "execution_count": 74,
      "metadata": {
        "id": "FG9O0HZBInMu"
      },
      "outputs": [],
      "source": [
        "class Neuron:\n",
        "    def __init__(self, weights, inputs, activation):\n",
        "        self.inputs = inputs\n",
        "        self.weights = weights\n",
        "        self.activation = activation\n",
        "\n",
        "        self.__perform_summation()\n",
        "        self.__perform_activation()\n",
        "\n",
        "    def __perform_summation(self):\n",
        "        \"\"\"Perform Summation\"\"\"\n",
        "        self.summation = 0\n",
        "\n",
        "        # Add inputs and weights\n",
        "        for x in range(len(self.inputs)):\n",
        "            self.summation += self.inputs[x] * self.weights[x]\n",
        "\n",
        "        # Add bias\n",
        "        self.summation += self.weights[len(self.weights)-1]\n",
        "\n",
        "    def __perform_activation(self):\n",
        "        \"\"\"Perform activation function\"\"\"\n",
        "        self.function = self.activation(self.summation)\n",
        "\n",
        "    def linear_combiner(self):\n",
        "        return self.summation\n",
        "\n",
        "    def output(self):\n",
        "        return self.function\n",
        "\n",
        "weights = [\n",
        "    (2, 3, -1, .5)\n",
        "]\n",
        "\n",
        "inputs = [\n",
        "    (.9, .2, .3)\n",
        "]\n",
        "\n",
        "# neurons = []\n",
        "\n",
        "neuron1 = Neuron(weights[0], inputs[0], ReLU)\n",
        "# neuron2 = Neuron(weights[0], inputs[0], sigmoid)"
      ]
    },
    {
      "cell_type": "code",
      "source": [
        "print(\"Summation:\", neuron1.linear_combiner())\n",
        "print(\"Activation Function:\", neuron1.output())\n",
        "\n",
        "# print(neuron2.linear_combiner())\n",
        "# print(neuron2.output())"
      ],
      "metadata": {
        "colab": {
          "base_uri": "https://localhost:8080/"
        },
        "id": "sSPvH4MKMi9S",
        "outputId": "c42bc913-b50c-48b2-b321-506b7624aca4"
      },
      "execution_count": 77,
      "outputs": [
        {
          "output_type": "stream",
          "name": "stdout",
          "text": [
            "Summation: 2.6000000000000005\n",
            "Activation Function: 2.6000000000000005\n"
          ]
        }
      ]
    },
    {
      "cell_type": "code",
      "source": [],
      "metadata": {
        "id": "bxWLaZXaZpDH"
      },
      "execution_count": null,
      "outputs": []
    }
  ]
}