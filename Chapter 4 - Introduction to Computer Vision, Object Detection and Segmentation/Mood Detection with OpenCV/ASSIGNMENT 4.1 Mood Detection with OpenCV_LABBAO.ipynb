{
  "cells": [
    {
      "cell_type": "markdown",
      "metadata": {
        "id": "fOnC0Lrm3-tF"
      },
      "source": [
        "# Assignment 4.1 - Mood Detection with OpenCV\n",
        "\n",
        "Submitted By: Labbao, Benedick D.<br>\n",
        "Performed On: 03/21/2024<br>\n",
        "Submitted On: 03/22/2024\n",
        "\n",
        "Submitted To: Engr. Roman M. Richard\n",
        "\n",
        "---"
      ]
    },
    {
      "cell_type": "markdown",
      "metadata": {
        "id": "pOCQf_Jh4Fnj"
      },
      "source": [
        "## Dataset"
      ]
    },
    {
      "cell_type": "markdown",
      "metadata": {},
      "source": [
        "### Data Collection"
      ]
    },
    {
      "cell_type": "code",
      "execution_count": 7,
      "metadata": {
        "id": "g_OM2fwYjS8o"
      },
      "outputs": [],
      "source": [
        "from time import sleep\n",
        "import cv2\n",
        "import uuid\n",
        "import matplotlib.pyplot as plt\n",
        "import os\n",
        "import numpy as np\n",
        "\n",
        "raw_dataset_path = 'dataset/faces/'\n",
        "preprocessed_dataset_path = 'dataset/preprocessed_faces/'\n",
        "final_dataset_path = 'dataset/edge_detection/'\n",
        "\n",
        "face_cascade = cv2.CascadeClassifier('haarcascade/haarcascade_frontalface_default.xml')\n",
        "eye_cascade = cv2.CascadeClassifier('haarcascade/haarcascade_eye.xml')\n",
        "\n",
        "def display_image(image, title=None, conversion=cv2.COLOR_BGR2RGB):\n",
        "    image = cv2.cvtColor(image, conversion)\n",
        "    plt.imshow(image)\n",
        "    plt.xticks([])\n",
        "    plt.yticks([])\n",
        "    \n",
        "    if title is not None:\n",
        "        plt.title(title)\n",
        "\n",
        "    plt.show()\n",
        "\n",
        "def fix_dataset_names(directory, prefix='face_'):\n",
        "    files = os.listdir(directory)\n",
        "    counter = 0\n",
        "    \n",
        "    for file in files:\n",
        "        _, ext = os.path.splitext(file)\n",
        "        new_name = f\"{prefix}{counter:04d}{ext}\"\n",
        "        print('fixing', new_name)\n",
        "        \n",
        "        os.rename(os.path.join(directory, file), os.path.join(directory, new_name))\n",
        "        counter += 1\n",
        "\n",
        "def generate_name(directory):\n",
        "    files = os.listdir(directory)\n",
        "    num_files = len(files)\n",
        "    face_names = 'face_' + str(num_files).zfill(4)\n",
        "    return face_names + '.png'\n",
        "\n",
        "def capture(count=1):\n",
        "    camera = cv2.VideoCapture(0)\n",
        "\n",
        "    while (count > 0):\n",
        "        ret, frame = camera.read()\n",
        "        gray = cv2.cvtColor(frame, cv2.COLOR_BGR2GRAY)\n",
        "        faces = face_cascade.detectMultiScale(gray, 1.1, 5)\n",
        "\n",
        "        for (x,y,w,h) in faces:\n",
        "            image = frame[y:(y+h), x:(x+w)]\n",
        "            name = generate_name(raw_dataset_path)\n",
        "            cv2.imwrite(raw_dataset_path + name, image)\n",
        "            print(f'saving {name}...')\n",
        "\n",
        "        sleep(1)\n",
        "        count-=1"
      ]
    },
    {
      "cell_type": "code",
      "execution_count": 225,
      "metadata": {},
      "outputs": [
        {
          "name": "stdout",
          "output_type": "stream",
          "text": [
            "fixing angry_0000.png\n",
            "fixing angry_0001.png\n",
            "fixing angry_0002.png\n",
            "fixing angry_0003.png\n",
            "fixing angry_0004.png\n",
            "fixing angry_0005.png\n",
            "fixing angry_0006.png\n",
            "fixing angry_0007.png\n",
            "fixing angry_0008.png\n"
          ]
        }
      ],
      "source": [
        "fix_dataset_names(raw_dataset_path + 'angry/', 'angry_')"
      ]
    },
    {
      "cell_type": "code",
      "execution_count": 216,
      "metadata": {},
      "outputs": [
        {
          "name": "stdout",
          "output_type": "stream",
          "text": [
            "saving face_0004.png...\n",
            "saving face_0005.png...\n",
            "saving face_0006.png...\n",
            "saving face_0007.png...\n",
            "saving face_0008.png...\n",
            "saving face_0009.png...\n",
            "saving face_0010.png...\n",
            "saving face_0011.png...\n",
            "saving face_0012.png...\n",
            "saving face_0013.png...\n",
            "saving face_0014.png...\n",
            "saving face_0015.png...\n",
            "saving face_0016.png...\n",
            "saving face_0017.png...\n",
            "saving face_0018.png...\n",
            "saving face_0019.png...\n",
            "saving face_0020.png...\n",
            "saving face_0021.png...\n",
            "saving face_0022.png...\n",
            "saving face_0023.png...\n"
          ]
        }
      ],
      "source": [
        "capture(20)"
      ]
    },
    {
      "cell_type": "markdown",
      "metadata": {},
      "source": [
        "This will take face images at an random interval to create a dataset for facial recognition."
      ]
    },
    {
      "cell_type": "markdown",
      "metadata": {},
      "source": [
        "### Image Pre-processing"
      ]
    },
    {
      "cell_type": "markdown",
      "metadata": {},
      "source": [
        "Remove background by locating eyes and extracting face region."
      ]
    },
    {
      "cell_type": "code",
      "execution_count": 347,
      "metadata": {},
      "outputs": [],
      "source": [
        "def extract_face_region(image):\n",
        "    center_point = lambda p1, p2: (int((p1[0] + p2[0]) / 2)+3, int((p1[1] + p2[1]) / 2))\n",
        "    gray = cv2.cvtColor(image, cv2.COLOR_BGR2GRAY)\n",
        "    eyes = eye_cascade.detectMultiScale(gray, 1.03, 10, 0, (40, 40))\n",
        "\n",
        "    # Perform eye detection then find center point of left and right eyes\n",
        "    eyes_center_points = []\n",
        "    for (x,y,w,h) in eyes:\n",
        "        eyes_center_points.append(center_point((x,y), (x+w, y+h)))\n",
        "        # cv2.rectangle(gray, (x, y), (x+w, y+h), (0, 255, 0), 1)\n",
        "        # display_image(gray)\n",
        "        \n",
        "    # Find center betweem right eye's center point and left eye's center point\n",
        "    eye_center = center_point(eyes_center_points[0], eyes_center_points[1])\n",
        "    x, y = eye_center\n",
        "\n",
        "    # add offset to create a bounding box that only contains face region\n",
        "    x1, y1, x2, y2 = x - 100, y + 140, x + 100, y - 60\n",
        "    cv2.rectangle(image, (x1, y1), (x2, y2),  (0, 255, 0), 2)\n",
        "\n",
        "    return image[y2:y1, x1:x2]\n",
        "\n",
        "def resize(image, scale=0.7):\n",
        "    w, h = image.shape\n",
        "    new_image = cv2.resize(image, (int(w*scale), int(h*scale)))\n",
        "    return new_image"
      ]
    },
    {
      "cell_type": "code",
      "execution_count": 348,
      "metadata": {},
      "outputs": [],
      "source": [
        "def preprocess_images(src_dir, dst_dir):\n",
        "    files = os.listdir(src_dir)\n",
        "    \n",
        "    for file in files:\n",
        "        file_name, ext = os.path.splitext(file)\n",
        "        print(\"Processing image:\", file_name + ext)\n",
        "\n",
        "        image = cv2.imread(src_dir + file_name + ext)\n",
        "        image = extract_face_region(image)\n",
        "        gray = cv2.cvtColor(image, cv2.COLOR_BGR2GRAY)\n",
        "        cv2.imwrite(dst_dir + file_name + ext, resize(gray))"
      ]
    },
    {
      "cell_type": "markdown",
      "metadata": {},
      "source": [
        "Now we created a function to perform preprocessing on all images and move them in a separate folder."
      ]
    },
    {
      "cell_type": "code",
      "execution_count": 349,
      "metadata": {},
      "outputs": [
        {
          "name": "stdout",
          "output_type": "stream",
          "text": [
            "Processing image: angry_0000.png\n",
            "Processing image: angry_0001.png\n",
            "Processing image: angry_0002.png\n",
            "Processing image: angry_0003.png\n",
            "Processing image: angry_0004.png\n",
            "Processing image: angry_0005.png\n",
            "Processing image: angry_0006.png\n",
            "Processing image: angry_0007.png\n"
          ]
        }
      ],
      "source": [
        "preprocess_images(raw_dataset_path + 'angry/', preprocessed_dataset_path + 'angry/')"
      ]
    },
    {
      "cell_type": "code",
      "execution_count": 350,
      "metadata": {},
      "outputs": [
        {
          "name": "stdout",
          "output_type": "stream",
          "text": [
            "Processing image: happy_0000.png\n",
            "Processing image: happy_0001.png\n",
            "Processing image: happy_0002.png\n",
            "Processing image: happy_0003.png\n",
            "Processing image: happy_0004.png\n",
            "Processing image: happy_0005.png\n",
            "Processing image: happy_0006.png\n",
            "Processing image: happy_0007.png\n",
            "Processing image: happy_0008.png\n",
            "Processing image: happy_0009.png\n",
            "Processing image: happy_0010.png\n",
            "Processing image: happy_0011.png\n",
            "Processing image: happy_0012.png\n",
            "Processing image: happy_0013.png\n",
            "Processing image: happy_0014.png\n",
            "Processing image: happy_0015.png\n",
            "Processing image: happy_0016.png\n",
            "Processing image: happy_0017.png\n",
            "Processing image: happy_0018.png\n"
          ]
        }
      ],
      "source": [
        "preprocess_images(raw_dataset_path + 'happy/', preprocessed_dataset_path + 'happy/')"
      ]
    },
    {
      "cell_type": "code",
      "execution_count": 351,
      "metadata": {},
      "outputs": [
        {
          "name": "stdout",
          "output_type": "stream",
          "text": [
            "Processing image: sad_0000.png\n",
            "Processing image: sad_0001.png\n",
            "Processing image: sad_0002.png\n",
            "Processing image: sad_0003.png\n",
            "Processing image: sad_0004.png\n",
            "Processing image: sad_0005.png\n",
            "Processing image: sad_0006.png\n",
            "Processing image: sad_0007.png\n",
            "Processing image: sad_0008.png\n",
            "Processing image: sad_0009.png\n",
            "Processing image: sad_0010.png\n"
          ]
        }
      ],
      "source": [
        "preprocess_images(raw_dataset_path + 'sad/', preprocessed_dataset_path + 'sad/')"
      ]
    },
    {
      "cell_type": "code",
      "execution_count": 352,
      "metadata": {},
      "outputs": [
        {
          "name": "stdout",
          "output_type": "stream",
          "text": [
            "Processing image: neutral_0000.png\n",
            "Processing image: neutral_0001.png\n",
            "Processing image: neutral_0002.png\n",
            "Processing image: neutral_0003.png\n",
            "Processing image: neutral_0004.png\n",
            "Processing image: neutral_0005.png\n",
            "Processing image: neutral_0006.png\n",
            "Processing image: neutral_0007.png\n",
            "Processing image: neutral_0008.png\n",
            "Processing image: neutral_0009.png\n",
            "Processing image: neutral_0010.png\n",
            "Processing image: neutral_0011.png\n"
          ]
        }
      ],
      "source": [
        "preprocess_images(raw_dataset_path + 'neutral/', preprocessed_dataset_path + 'neutral/')"
      ]
    },
    {
      "cell_type": "markdown",
      "metadata": {},
      "source": [
        "### Image Processing\n",
        "\n",
        "Using low-level processing which takes edges, texture elements or regions for this activity, I will be using Otsu's method to perform thresholding."
      ]
    },
    {
      "cell_type": "code",
      "execution_count": 373,
      "metadata": {},
      "outputs": [],
      "source": [
        "def perform_otsu_thresholding(image):\n",
        "    _, binary_image = cv2.threshold(image, 100, 255, cv2.THRESH_OTSU + cv2.THRESH_BINARY)\n",
        "    return binary_image"
      ]
    },
    {
      "cell_type": "code",
      "execution_count": 374,
      "metadata": {},
      "outputs": [],
      "source": [
        "def threshold_images(src_dir, dst_dir):\n",
        "    files = os.listdir(src_dir)\n",
        "    \n",
        "    for file in files:\n",
        "        file_name, ext = os.path.splitext(file)\n",
        "        print(\"Processing image:\", file_name + ext)\n",
        "\n",
        "        image = cv2.imread(src_dir + file_name + ext)\n",
        "        gray_image = cv2.cvtColor(image, cv2.COLOR_BGR2GRAY)\n",
        "        res_image = perform_otsu_thresholding(gray_image)\n",
        "        cv2.imwrite(dst_dir + file_name + ext, res_image)"
      ]
    },
    {
      "cell_type": "code",
      "execution_count": 375,
      "metadata": {},
      "outputs": [
        {
          "name": "stdout",
          "output_type": "stream",
          "text": [
            "Processing image: angry_0000.png\n",
            "Processing image: angry_0001.png\n",
            "Processing image: angry_0002.png\n",
            "Processing image: angry_0003.png\n",
            "Processing image: angry_0004.png\n",
            "Processing image: angry_0005.png\n",
            "Processing image: angry_0006.png\n",
            "Processing image: angry_0007.png\n"
          ]
        }
      ],
      "source": [
        "threshold_images(preprocessed_dataset_path + 'angry/', final_dataset_path + 'angry/')"
      ]
    },
    {
      "cell_type": "code",
      "execution_count": 376,
      "metadata": {},
      "outputs": [
        {
          "name": "stdout",
          "output_type": "stream",
          "text": [
            "Processing image: happy_0000.png\n",
            "Processing image: happy_0001.png\n",
            "Processing image: happy_0002.png\n",
            "Processing image: happy_0003.png\n",
            "Processing image: happy_0004.png\n",
            "Processing image: happy_0005.png\n",
            "Processing image: happy_0006.png\n",
            "Processing image: happy_0007.png\n",
            "Processing image: happy_0008.png\n",
            "Processing image: happy_0009.png\n",
            "Processing image: happy_0010.png\n",
            "Processing image: happy_0011.png\n",
            "Processing image: happy_0012.png\n",
            "Processing image: happy_0013.png\n",
            "Processing image: happy_0014.png\n",
            "Processing image: happy_0015.png\n",
            "Processing image: happy_0016.png\n",
            "Processing image: happy_0017.png\n",
            "Processing image: happy_0018.png\n"
          ]
        }
      ],
      "source": [
        "threshold_images(preprocessed_dataset_path + 'happy/', final_dataset_path + 'happy/')"
      ]
    },
    {
      "cell_type": "code",
      "execution_count": 377,
      "metadata": {},
      "outputs": [
        {
          "name": "stdout",
          "output_type": "stream",
          "text": [
            "Processing image: neutral_0000.png\n",
            "Processing image: neutral_0001.png\n",
            "Processing image: neutral_0002.png\n",
            "Processing image: neutral_0003.png\n",
            "Processing image: neutral_0004.png\n",
            "Processing image: neutral_0005.png\n",
            "Processing image: neutral_0006.png\n",
            "Processing image: neutral_0007.png\n",
            "Processing image: neutral_0008.png\n",
            "Processing image: neutral_0009.png\n",
            "Processing image: neutral_0010.png\n",
            "Processing image: neutral_0011.png\n"
          ]
        }
      ],
      "source": [
        "threshold_images(preprocessed_dataset_path + 'neutral/', final_dataset_path + 'neutral/')"
      ]
    },
    {
      "cell_type": "code",
      "execution_count": 378,
      "metadata": {},
      "outputs": [
        {
          "name": "stdout",
          "output_type": "stream",
          "text": [
            "Processing image: sad_0000.png\n",
            "Processing image: sad_0001.png\n",
            "Processing image: sad_0002.png\n",
            "Processing image: sad_0003.png\n",
            "Processing image: sad_0004.png\n",
            "Processing image: sad_0005.png\n",
            "Processing image: sad_0006.png\n",
            "Processing image: sad_0007.png\n",
            "Processing image: sad_0008.png\n",
            "Processing image: sad_0009.png\n",
            "Processing image: sad_0010.png\n"
          ]
        }
      ],
      "source": [
        "threshold_images(preprocessed_dataset_path + 'sad/', final_dataset_path + 'sad/')"
      ]
    },
    {
      "cell_type": "markdown",
      "metadata": {},
      "source": [
        "## Models"
      ]
    },
    {
      "cell_type": "markdown",
      "metadata": {},
      "source": [
        "### Training model"
      ]
    },
    {
      "cell_type": "markdown",
      "metadata": {},
      "source": [
        "I will be using pre-processed images for LBPH Face Recognition and the images that I performed thresholding on will be used for facial recognition for mood detection."
      ]
    },
    {
      "cell_type": "code",
      "execution_count": 1,
      "metadata": {},
      "outputs": [],
      "source": [
        "import cv2\n",
        "import os\n",
        "import numpy as np"
      ]
    },
    {
      "cell_type": "code",
      "execution_count": 8,
      "metadata": {},
      "outputs": [],
      "source": [
        "def train_face_recognition_model(data_dir):\n",
        "    recognizer = cv2.face.LBPHFaceRecognizer_create()\n",
        "\n",
        "    # Prepare training data\n",
        "    faces = []\n",
        "    labels = []\n",
        "\n",
        "    # Recursively walk through the directory and its subdirectories\n",
        "    for root, _, files in os.walk(data_dir):\n",
        "        for filename in files:\n",
        "            # Check if the file has an image extension\n",
        "            if any(filename.lower().endswith(ext) for ext in ['.png']):\n",
        "                # Append the full path of the image file to the list\n",
        "                faces.append(os.path.join(root, filename))\n",
        "                labels.append('Ben')\n",
        "\n",
        "    # Assign unique integer labels to each person\n",
        "    label_dict = {label: idx for idx, label in enumerate(np.unique(labels))}\n",
        "    labels = [label_dict[label] for label in labels]\n",
        "\n",
        "    # Train the recognizer\n",
        "    recognizer.train(faces, np.array(labels))\n",
        "\n",
        "    # Save the trained model\n",
        "    recognizer.save(\"face_recognition_model.xml\")\n",
        "    print(\"Face recognition model trained and saved successfully.\")\n",
        "\n",
        "def test_face_recognition_model(image):\n",
        "    recognizer = cv2.face.LBPHFaceRecognizer_create()\n",
        "    recognizer.read(\"face_recognition_model.xml\")\n",
        "    gray_image = cv2.cvtColor(image, cv2.COLOR_BGR2GRAY)\n",
        "    # Use LBPH recognizer to predict the identity of the face in the test image\n",
        "    label, confidence = recognizer.predict(gray_image)\n",
        "\n",
        "    # If the predicted label matches the specific person you're interested in\n",
        "    if label == 'Ben':\n",
        "        print(\"The specific person's face is recognized.\")\n",
        "    else:\n",
        "        print(\"The specific person's face is not recognized.\")\n"
      ]
    },
    {
      "cell_type": "code",
      "execution_count": 9,
      "metadata": {},
      "outputs": [
        {
          "ename": "error",
          "evalue": "OpenCV(4.9.0) :-1: error: (-5:Bad argument) in function 'train'\n> Overload resolution failed:\n>  - Can't parse 'src'. Sequence item with index 0 has a wrong type\n>  - Can't parse 'src'. Sequence item with index 0 has a wrong type\n",
          "output_type": "error",
          "traceback": [
            "\u001b[1;31m---------------------------------------------------------------------------\u001b[0m",
            "\u001b[1;31merror\u001b[0m                                     Traceback (most recent call last)",
            "Cell \u001b[1;32mIn[9], line 1\u001b[0m\n\u001b[1;32m----> 1\u001b[0m \u001b[43mtrain_face_recognition_model\u001b[49m\u001b[43m(\u001b[49m\u001b[43mfinal_dataset_path\u001b[49m\u001b[43m)\u001b[49m\n",
            "Cell \u001b[1;32mIn[8], line 22\u001b[0m, in \u001b[0;36mtrain_face_recognition_model\u001b[1;34m(data_dir)\u001b[0m\n\u001b[0;32m     19\u001b[0m labels \u001b[38;5;241m=\u001b[39m [label_dict[label] \u001b[38;5;28;01mfor\u001b[39;00m label \u001b[38;5;129;01min\u001b[39;00m labels]\n\u001b[0;32m     21\u001b[0m \u001b[38;5;66;03m# Train the recognizer\u001b[39;00m\n\u001b[1;32m---> 22\u001b[0m \u001b[43mrecognizer\u001b[49m\u001b[38;5;241;43m.\u001b[39;49m\u001b[43mtrain\u001b[49m\u001b[43m(\u001b[49m\u001b[43mfaces\u001b[49m\u001b[43m,\u001b[49m\u001b[43m \u001b[49m\u001b[43mnp\u001b[49m\u001b[38;5;241;43m.\u001b[39;49m\u001b[43marray\u001b[49m\u001b[43m(\u001b[49m\u001b[43mlabels\u001b[49m\u001b[43m)\u001b[49m\u001b[43m)\u001b[49m\n\u001b[0;32m     24\u001b[0m \u001b[38;5;66;03m# Save the trained model\u001b[39;00m\n\u001b[0;32m     25\u001b[0m recognizer\u001b[38;5;241m.\u001b[39msave(\u001b[38;5;124m\"\u001b[39m\u001b[38;5;124mface_recognition_model.xml\u001b[39m\u001b[38;5;124m\"\u001b[39m)\n",
            "\u001b[1;31merror\u001b[0m: OpenCV(4.9.0) :-1: error: (-5:Bad argument) in function 'train'\n> Overload resolution failed:\n>  - Can't parse 'src'. Sequence item with index 0 has a wrong type\n>  - Can't parse 'src'. Sequence item with index 0 has a wrong type\n"
          ]
        }
      ],
      "source": [
        "train_face_recognition_model(final_dataset_path)"
      ]
    },
    {
      "cell_type": "markdown",
      "metadata": {},
      "source": [
        "## Output"
      ]
    },
    {
      "cell_type": "code",
      "execution_count": null,
      "metadata": {},
      "outputs": [],
      "source": []
    }
  ],
  "metadata": {
    "colab": {
      "provenance": []
    },
    "kernelspec": {
      "display_name": "Python 3",
      "name": "python3"
    },
    "language_info": {
      "codemirror_mode": {
        "name": "ipython",
        "version": 3
      },
      "file_extension": ".py",
      "mimetype": "text/x-python",
      "name": "python",
      "nbconvert_exporter": "python",
      "pygments_lexer": "ipython3",
      "version": "3.10.11"
    }
  },
  "nbformat": 4,
  "nbformat_minor": 0
}
